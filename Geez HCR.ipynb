{
  "cells": [
    {
      "cell_type": "markdown",
      "metadata": {
        "id": "view-in-github",
        "colab_type": "text"
      },
      "source": [
        "<a href=\"https://colab.research.google.com/github/AmberbirMehabaw/ADM-Technologies-Test-Project/blob/main/Geez%20HCR.ipynb\" target=\"_parent\"><img src=\"https://colab.research.google.com/assets/colab-badge.svg\" alt=\"Open In Colab\"/></a>"
      ]
    },
    {
      "cell_type": "code",
      "execution_count": 5,
      "id": "235b9000",
      "metadata": {
        "colab": {
          "base_uri": "https://localhost:8080/",
          "height": 73
        },
        "id": "235b9000",
        "outputId": "7192fd1b-3fac-455f-fe90-7ab54907198c"
      },
      "outputs": [
        {
          "output_type": "display_data",
          "data": {
            "text/plain": [
              "<IPython.core.display.HTML object>"
            ],
            "text/html": [
              "\n",
              "     <input type=\"file\" id=\"files-3722f805-3e69-4f0b-af0d-3a04a25818f6\" name=\"files[]\" multiple disabled\n",
              "        style=\"border:none\" />\n",
              "     <output id=\"result-3722f805-3e69-4f0b-af0d-3a04a25818f6\">\n",
              "      Upload widget is only available when the cell has been executed in the\n",
              "      current browser session. Please rerun this cell to enable.\n",
              "      </output>\n",
              "      <script>// Copyright 2017 Google LLC\n",
              "//\n",
              "// Licensed under the Apache License, Version 2.0 (the \"License\");\n",
              "// you may not use this file except in compliance with the License.\n",
              "// You may obtain a copy of the License at\n",
              "//\n",
              "//      http://www.apache.org/licenses/LICENSE-2.0\n",
              "//\n",
              "// Unless required by applicable law or agreed to in writing, software\n",
              "// distributed under the License is distributed on an \"AS IS\" BASIS,\n",
              "// WITHOUT WARRANTIES OR CONDITIONS OF ANY KIND, either express or implied.\n",
              "// See the License for the specific language governing permissions and\n",
              "// limitations under the License.\n",
              "\n",
              "/**\n",
              " * @fileoverview Helpers for google.colab Python module.\n",
              " */\n",
              "(function(scope) {\n",
              "function span(text, styleAttributes = {}) {\n",
              "  const element = document.createElement('span');\n",
              "  element.textContent = text;\n",
              "  for (const key of Object.keys(styleAttributes)) {\n",
              "    element.style[key] = styleAttributes[key];\n",
              "  }\n",
              "  return element;\n",
              "}\n",
              "\n",
              "// Max number of bytes which will be uploaded at a time.\n",
              "const MAX_PAYLOAD_SIZE = 100 * 1024;\n",
              "\n",
              "function _uploadFiles(inputId, outputId) {\n",
              "  const steps = uploadFilesStep(inputId, outputId);\n",
              "  const outputElement = document.getElementById(outputId);\n",
              "  // Cache steps on the outputElement to make it available for the next call\n",
              "  // to uploadFilesContinue from Python.\n",
              "  outputElement.steps = steps;\n",
              "\n",
              "  return _uploadFilesContinue(outputId);\n",
              "}\n",
              "\n",
              "// This is roughly an async generator (not supported in the browser yet),\n",
              "// where there are multiple asynchronous steps and the Python side is going\n",
              "// to poll for completion of each step.\n",
              "// This uses a Promise to block the python side on completion of each step,\n",
              "// then passes the result of the previous step as the input to the next step.\n",
              "function _uploadFilesContinue(outputId) {\n",
              "  const outputElement = document.getElementById(outputId);\n",
              "  const steps = outputElement.steps;\n",
              "\n",
              "  const next = steps.next(outputElement.lastPromiseValue);\n",
              "  return Promise.resolve(next.value.promise).then((value) => {\n",
              "    // Cache the last promise value to make it available to the next\n",
              "    // step of the generator.\n",
              "    outputElement.lastPromiseValue = value;\n",
              "    return next.value.response;\n",
              "  });\n",
              "}\n",
              "\n",
              "/**\n",
              " * Generator function which is called between each async step of the upload\n",
              " * process.\n",
              " * @param {string} inputId Element ID of the input file picker element.\n",
              " * @param {string} outputId Element ID of the output display.\n",
              " * @return {!Iterable<!Object>} Iterable of next steps.\n",
              " */\n",
              "function* uploadFilesStep(inputId, outputId) {\n",
              "  const inputElement = document.getElementById(inputId);\n",
              "  inputElement.disabled = false;\n",
              "\n",
              "  const outputElement = document.getElementById(outputId);\n",
              "  outputElement.innerHTML = '';\n",
              "\n",
              "  const pickedPromise = new Promise((resolve) => {\n",
              "    inputElement.addEventListener('change', (e) => {\n",
              "      resolve(e.target.files);\n",
              "    });\n",
              "  });\n",
              "\n",
              "  const cancel = document.createElement('button');\n",
              "  inputElement.parentElement.appendChild(cancel);\n",
              "  cancel.textContent = 'Cancel upload';\n",
              "  const cancelPromise = new Promise((resolve) => {\n",
              "    cancel.onclick = () => {\n",
              "      resolve(null);\n",
              "    };\n",
              "  });\n",
              "\n",
              "  // Wait for the user to pick the files.\n",
              "  const files = yield {\n",
              "    promise: Promise.race([pickedPromise, cancelPromise]),\n",
              "    response: {\n",
              "      action: 'starting',\n",
              "    }\n",
              "  };\n",
              "\n",
              "  cancel.remove();\n",
              "\n",
              "  // Disable the input element since further picks are not allowed.\n",
              "  inputElement.disabled = true;\n",
              "\n",
              "  if (!files) {\n",
              "    return {\n",
              "      response: {\n",
              "        action: 'complete',\n",
              "      }\n",
              "    };\n",
              "  }\n",
              "\n",
              "  for (const file of files) {\n",
              "    const li = document.createElement('li');\n",
              "    li.append(span(file.name, {fontWeight: 'bold'}));\n",
              "    li.append(span(\n",
              "        `(${file.type || 'n/a'}) - ${file.size} bytes, ` +\n",
              "        `last modified: ${\n",
              "            file.lastModifiedDate ? file.lastModifiedDate.toLocaleDateString() :\n",
              "                                    'n/a'} - `));\n",
              "    const percent = span('0% done');\n",
              "    li.appendChild(percent);\n",
              "\n",
              "    outputElement.appendChild(li);\n",
              "\n",
              "    const fileDataPromise = new Promise((resolve) => {\n",
              "      const reader = new FileReader();\n",
              "      reader.onload = (e) => {\n",
              "        resolve(e.target.result);\n",
              "      };\n",
              "      reader.readAsArrayBuffer(file);\n",
              "    });\n",
              "    // Wait for the data to be ready.\n",
              "    let fileData = yield {\n",
              "      promise: fileDataPromise,\n",
              "      response: {\n",
              "        action: 'continue',\n",
              "      }\n",
              "    };\n",
              "\n",
              "    // Use a chunked sending to avoid message size limits. See b/62115660.\n",
              "    let position = 0;\n",
              "    do {\n",
              "      const length = Math.min(fileData.byteLength - position, MAX_PAYLOAD_SIZE);\n",
              "      const chunk = new Uint8Array(fileData, position, length);\n",
              "      position += length;\n",
              "\n",
              "      const base64 = btoa(String.fromCharCode.apply(null, chunk));\n",
              "      yield {\n",
              "        response: {\n",
              "          action: 'append',\n",
              "          file: file.name,\n",
              "          data: base64,\n",
              "        },\n",
              "      };\n",
              "\n",
              "      let percentDone = fileData.byteLength === 0 ?\n",
              "          100 :\n",
              "          Math.round((position / fileData.byteLength) * 100);\n",
              "      percent.textContent = `${percentDone}% done`;\n",
              "\n",
              "    } while (position < fileData.byteLength);\n",
              "  }\n",
              "\n",
              "  // All done.\n",
              "  yield {\n",
              "    response: {\n",
              "      action: 'complete',\n",
              "    }\n",
              "  };\n",
              "}\n",
              "\n",
              "scope.google = scope.google || {};\n",
              "scope.google.colab = scope.google.colab || {};\n",
              "scope.google.colab._files = {\n",
              "  _uploadFiles,\n",
              "  _uploadFilesContinue,\n",
              "};\n",
              "})(self);\n",
              "</script> "
            ]
          },
          "metadata": {}
        },
        {
          "output_type": "stream",
          "name": "stdout",
          "text": [
            "Saving train_header.csv to train_header.csv\n"
          ]
        }
      ],
      "source": [
        "from sklearn.model_selection import train_test_split\n",
        "from tensorflow.keras.layers import Dense, Dropout, Input\n",
        "from tensorflow.keras.layers import Conv2D, MaxPooling2D, Flatten\n",
        "from tensorflow.keras.models import Model\n",
        "from tensorflow.keras.datasets import mnist\n",
        "from tensorflow.keras.utils import to_categorical\n",
        "from sklearn.metrics import classification_report\n",
        "\n",
        "import pandas as pd\n",
        "import numpy as np\n",
        "from google.colab import files\n",
        "uploaded = files.upload()"
      ]
    },
    {
      "cell_type": "code",
      "execution_count": 6,
      "id": "fa0a2fc3",
      "metadata": {
        "colab": {
          "base_uri": "https://localhost:8080/",
          "height": 321
        },
        "id": "fa0a2fc3",
        "outputId": "8e19779f-ff81-4b60-a819-3d28855edbb2"
      },
      "outputs": [
        {
          "output_type": "error",
          "ename": "FileNotFoundError",
          "evalue": "[Errno 2] No such file or directory: 'label_header.csv'",
          "traceback": [
            "\u001b[0;31m---------------------------------------------------------------------------\u001b[0m",
            "\u001b[0;31mFileNotFoundError\u001b[0m                         Traceback (most recent call last)",
            "\u001b[0;32m<ipython-input-6-2e3167227ed9>\u001b[0m in \u001b[0;36m<cell line: 2>\u001b[0;34m()\u001b[0m\n\u001b[1;32m      1\u001b[0m \u001b[0mvalues\u001b[0m \u001b[0;34m=\u001b[0m \u001b[0mpd\u001b[0m\u001b[0;34m.\u001b[0m\u001b[0mread_csv\u001b[0m\u001b[0;34m(\u001b[0m\u001b[0;34m'train_header.csv'\u001b[0m\u001b[0;34m)\u001b[0m\u001b[0;34m\u001b[0m\u001b[0;34m\u001b[0m\u001b[0m\n\u001b[0;32m----> 2\u001b[0;31m \u001b[0mlabels\u001b[0m \u001b[0;34m=\u001b[0m \u001b[0mpd\u001b[0m\u001b[0;34m.\u001b[0m\u001b[0mread_csv\u001b[0m\u001b[0;34m(\u001b[0m\u001b[0;34m'label_header.csv'\u001b[0m\u001b[0;34m)\u001b[0m\u001b[0;34m\u001b[0m\u001b[0;34m\u001b[0m\u001b[0m\n\u001b[0m",
            "\u001b[0;32m/usr/local/lib/python3.10/dist-packages/pandas/io/parsers/readers.py\u001b[0m in \u001b[0;36mread_csv\u001b[0;34m(filepath_or_buffer, sep, delimiter, header, names, index_col, usecols, dtype, engine, converters, true_values, false_values, skipinitialspace, skiprows, skipfooter, nrows, na_values, keep_default_na, na_filter, verbose, skip_blank_lines, parse_dates, infer_datetime_format, keep_date_col, date_parser, date_format, dayfirst, cache_dates, iterator, chunksize, compression, thousands, decimal, lineterminator, quotechar, quoting, doublequote, escapechar, comment, encoding, encoding_errors, dialect, on_bad_lines, delim_whitespace, low_memory, memory_map, float_precision, storage_options, dtype_backend)\u001b[0m\n\u001b[1;32m   1024\u001b[0m     \u001b[0mkwds\u001b[0m\u001b[0;34m.\u001b[0m\u001b[0mupdate\u001b[0m\u001b[0;34m(\u001b[0m\u001b[0mkwds_defaults\u001b[0m\u001b[0;34m)\u001b[0m\u001b[0;34m\u001b[0m\u001b[0;34m\u001b[0m\u001b[0m\n\u001b[1;32m   1025\u001b[0m \u001b[0;34m\u001b[0m\u001b[0m\n\u001b[0;32m-> 1026\u001b[0;31m     \u001b[0;32mreturn\u001b[0m \u001b[0m_read\u001b[0m\u001b[0;34m(\u001b[0m\u001b[0mfilepath_or_buffer\u001b[0m\u001b[0;34m,\u001b[0m \u001b[0mkwds\u001b[0m\u001b[0;34m)\u001b[0m\u001b[0;34m\u001b[0m\u001b[0;34m\u001b[0m\u001b[0m\n\u001b[0m\u001b[1;32m   1027\u001b[0m \u001b[0;34m\u001b[0m\u001b[0m\n\u001b[1;32m   1028\u001b[0m \u001b[0;34m\u001b[0m\u001b[0m\n",
            "\u001b[0;32m/usr/local/lib/python3.10/dist-packages/pandas/io/parsers/readers.py\u001b[0m in \u001b[0;36m_read\u001b[0;34m(filepath_or_buffer, kwds)\u001b[0m\n\u001b[1;32m    618\u001b[0m \u001b[0;34m\u001b[0m\u001b[0m\n\u001b[1;32m    619\u001b[0m     \u001b[0;31m# Create the parser.\u001b[0m\u001b[0;34m\u001b[0m\u001b[0;34m\u001b[0m\u001b[0m\n\u001b[0;32m--> 620\u001b[0;31m     \u001b[0mparser\u001b[0m \u001b[0;34m=\u001b[0m \u001b[0mTextFileReader\u001b[0m\u001b[0;34m(\u001b[0m\u001b[0mfilepath_or_buffer\u001b[0m\u001b[0;34m,\u001b[0m \u001b[0;34m**\u001b[0m\u001b[0mkwds\u001b[0m\u001b[0;34m)\u001b[0m\u001b[0;34m\u001b[0m\u001b[0;34m\u001b[0m\u001b[0m\n\u001b[0m\u001b[1;32m    621\u001b[0m \u001b[0;34m\u001b[0m\u001b[0m\n\u001b[1;32m    622\u001b[0m     \u001b[0;32mif\u001b[0m \u001b[0mchunksize\u001b[0m \u001b[0;32mor\u001b[0m \u001b[0miterator\u001b[0m\u001b[0;34m:\u001b[0m\u001b[0;34m\u001b[0m\u001b[0;34m\u001b[0m\u001b[0m\n",
            "\u001b[0;32m/usr/local/lib/python3.10/dist-packages/pandas/io/parsers/readers.py\u001b[0m in \u001b[0;36m__init__\u001b[0;34m(self, f, engine, **kwds)\u001b[0m\n\u001b[1;32m   1618\u001b[0m \u001b[0;34m\u001b[0m\u001b[0m\n\u001b[1;32m   1619\u001b[0m         \u001b[0mself\u001b[0m\u001b[0;34m.\u001b[0m\u001b[0mhandles\u001b[0m\u001b[0;34m:\u001b[0m \u001b[0mIOHandles\u001b[0m \u001b[0;34m|\u001b[0m \u001b[0;32mNone\u001b[0m \u001b[0;34m=\u001b[0m \u001b[0;32mNone\u001b[0m\u001b[0;34m\u001b[0m\u001b[0;34m\u001b[0m\u001b[0m\n\u001b[0;32m-> 1620\u001b[0;31m         \u001b[0mself\u001b[0m\u001b[0;34m.\u001b[0m\u001b[0m_engine\u001b[0m \u001b[0;34m=\u001b[0m \u001b[0mself\u001b[0m\u001b[0;34m.\u001b[0m\u001b[0m_make_engine\u001b[0m\u001b[0;34m(\u001b[0m\u001b[0mf\u001b[0m\u001b[0;34m,\u001b[0m \u001b[0mself\u001b[0m\u001b[0;34m.\u001b[0m\u001b[0mengine\u001b[0m\u001b[0;34m)\u001b[0m\u001b[0;34m\u001b[0m\u001b[0;34m\u001b[0m\u001b[0m\n\u001b[0m\u001b[1;32m   1621\u001b[0m \u001b[0;34m\u001b[0m\u001b[0m\n\u001b[1;32m   1622\u001b[0m     \u001b[0;32mdef\u001b[0m \u001b[0mclose\u001b[0m\u001b[0;34m(\u001b[0m\u001b[0mself\u001b[0m\u001b[0;34m)\u001b[0m \u001b[0;34m->\u001b[0m \u001b[0;32mNone\u001b[0m\u001b[0;34m:\u001b[0m\u001b[0;34m\u001b[0m\u001b[0;34m\u001b[0m\u001b[0m\n",
            "\u001b[0;32m/usr/local/lib/python3.10/dist-packages/pandas/io/parsers/readers.py\u001b[0m in \u001b[0;36m_make_engine\u001b[0;34m(self, f, engine)\u001b[0m\n\u001b[1;32m   1878\u001b[0m                 \u001b[0;32mif\u001b[0m \u001b[0;34m\"b\"\u001b[0m \u001b[0;32mnot\u001b[0m \u001b[0;32min\u001b[0m \u001b[0mmode\u001b[0m\u001b[0;34m:\u001b[0m\u001b[0;34m\u001b[0m\u001b[0;34m\u001b[0m\u001b[0m\n\u001b[1;32m   1879\u001b[0m                     \u001b[0mmode\u001b[0m \u001b[0;34m+=\u001b[0m \u001b[0;34m\"b\"\u001b[0m\u001b[0;34m\u001b[0m\u001b[0;34m\u001b[0m\u001b[0m\n\u001b[0;32m-> 1880\u001b[0;31m             self.handles = get_handle(\n\u001b[0m\u001b[1;32m   1881\u001b[0m                 \u001b[0mf\u001b[0m\u001b[0;34m,\u001b[0m\u001b[0;34m\u001b[0m\u001b[0;34m\u001b[0m\u001b[0m\n\u001b[1;32m   1882\u001b[0m                 \u001b[0mmode\u001b[0m\u001b[0;34m,\u001b[0m\u001b[0;34m\u001b[0m\u001b[0;34m\u001b[0m\u001b[0m\n",
            "\u001b[0;32m/usr/local/lib/python3.10/dist-packages/pandas/io/common.py\u001b[0m in \u001b[0;36mget_handle\u001b[0;34m(path_or_buf, mode, encoding, compression, memory_map, is_text, errors, storage_options)\u001b[0m\n\u001b[1;32m    871\u001b[0m         \u001b[0;32mif\u001b[0m \u001b[0mioargs\u001b[0m\u001b[0;34m.\u001b[0m\u001b[0mencoding\u001b[0m \u001b[0;32mand\u001b[0m \u001b[0;34m\"b\"\u001b[0m \u001b[0;32mnot\u001b[0m \u001b[0;32min\u001b[0m \u001b[0mioargs\u001b[0m\u001b[0;34m.\u001b[0m\u001b[0mmode\u001b[0m\u001b[0;34m:\u001b[0m\u001b[0;34m\u001b[0m\u001b[0;34m\u001b[0m\u001b[0m\n\u001b[1;32m    872\u001b[0m             \u001b[0;31m# Encoding\u001b[0m\u001b[0;34m\u001b[0m\u001b[0;34m\u001b[0m\u001b[0m\n\u001b[0;32m--> 873\u001b[0;31m             handle = open(\n\u001b[0m\u001b[1;32m    874\u001b[0m                 \u001b[0mhandle\u001b[0m\u001b[0;34m,\u001b[0m\u001b[0;34m\u001b[0m\u001b[0;34m\u001b[0m\u001b[0m\n\u001b[1;32m    875\u001b[0m                 \u001b[0mioargs\u001b[0m\u001b[0;34m.\u001b[0m\u001b[0mmode\u001b[0m\u001b[0;34m,\u001b[0m\u001b[0;34m\u001b[0m\u001b[0;34m\u001b[0m\u001b[0m\n",
            "\u001b[0;31mFileNotFoundError\u001b[0m: [Errno 2] No such file or directory: 'label_header.csv'"
          ]
        }
      ],
      "source": [
        "values = pd.read_csv('train_header.csv')\n",
        "labels = pd.read_csv('label_header.csv')"
      ]
    },
    {
      "cell_type": "code",
      "execution_count": null,
      "id": "1949429b",
      "metadata": {
        "id": "1949429b"
      },
      "outputs": [],
      "source": [
        "xtrain = values[:18000]\n",
        "ytrain = labels[:18000]\n",
        "xtest = values[18000:20000]\n",
        "ytest = labels[18000:20000]\n",
        "xval = values[20000:]\n",
        "yval = labels[20000:]"
      ]
    },
    {
      "cell_type": "code",
      "execution_count": null,
      "id": "98d536c2",
      "metadata": {
        "id": "98d536c2"
      },
      "outputs": [],
      "source": []
    },
    {
      "cell_type": "code",
      "execution_count": null,
      "id": "128ac58f",
      "metadata": {
        "id": "128ac58f"
      },
      "outputs": [],
      "source": [
        "Xtrain = np.asarray(xtrain)\n",
        "Ytrain = np.asarray(ytrain)\n",
        "Xtest = np.asarray(xtest)\n",
        "Ytest = np.asarray(ytest)\n",
        "Xval = np.asarray(xval)\n",
        "Yval = np.asarray(yval)\n"
      ]
    },
    {
      "cell_type": "code",
      "execution_count": null,
      "id": "fc60c13f",
      "metadata": {
        "id": "fc60c13f"
      },
      "outputs": [],
      "source": [
        "len(np.unique(Ytrain))\n",
        "no_labels=np.unique(Ytrain)\n",
        "no_labels"
      ]
    },
    {
      "cell_type": "code",
      "execution_count": null,
      "id": "267ae38a",
      "metadata": {
        "id": "267ae38a"
      },
      "outputs": [],
      "source": []
    },
    {
      "cell_type": "code",
      "execution_count": null,
      "id": "3e936497",
      "metadata": {
        "id": "3e936497"
      },
      "outputs": [],
      "source": [
        "\n",
        "Ltrain = to_categorical(Ytrain)\n",
        "Ltest = to_categorical(Ytest)\n",
        "Lval = to_categorical(Yval)\n"
      ]
    },
    {
      "cell_type": "code",
      "execution_count": null,
      "id": "ccc89835",
      "metadata": {
        "id": "ccc89835"
      },
      "outputs": [],
      "source": []
    },
    {
      "cell_type": "code",
      "execution_count": null,
      "id": "25e3a445",
      "metadata": {
        "id": "25e3a445"
      },
      "outputs": [],
      "source": []
    },
    {
      "cell_type": "code",
      "execution_count": null,
      "id": "e5c73bb0",
      "metadata": {
        "id": "e5c73bb0"
      },
      "outputs": [],
      "source": []
    },
    {
      "cell_type": "code",
      "execution_count": null,
      "id": "c9de27b8",
      "metadata": {
        "id": "c9de27b8"
      },
      "outputs": [],
      "source": [
        "\n",
        "x_train = Xtrain.astype('float32') / 255\n",
        "x_test = Xtest.astype('float32') / 255\n",
        "\n",
        "x_val = Xval.astype('float32')/255\n",
        "\n",
        "\n",
        "x_train = np.reshape(x_train, (x_train.shape[0], 28, 28, 1) )\n",
        "x_test = np.reshape(x_test, (x_test.shape[0], 28, 28, 1) )\n",
        "\n",
        "x_val = np.reshape(x_val, (x_val.shape[0], 28, 28, 1))\n"
      ]
    },
    {
      "cell_type": "code",
      "execution_count": null,
      "id": "db60728a",
      "metadata": {
        "id": "db60728a"
      },
      "outputs": [],
      "source": [
        "# network parameters\n",
        "# input_shape = (784, 1)\n",
        "batch_size = 32\n",
        "kernel_size = 3\n",
        "filters = 64\n",
        "dropout = 0.3\n",
        "x_train[0].shape"
      ]
    },
    {
      "cell_type": "code",
      "execution_count": null,
      "id": "93068269",
      "metadata": {
        "id": "93068269"
      },
      "outputs": [],
      "source": []
    },
    {
      "cell_type": "code",
      "execution_count": null,
      "id": "e3ab5135",
      "metadata": {
        "id": "e3ab5135"
      },
      "outputs": [],
      "source": [
        "# use functional API to build cnn layers\n",
        "input_shape = (28, 28, 1)\n",
        "inputs = Input(shape=input_shape)\n",
        "y = Conv2D(filters=filters,\n",
        "                kernel_size=kernel_size,\n",
        "                activation='relu')(inputs)\n",
        "y = MaxPooling2D()(y)\n",
        "y = Conv2D(filters=filters,\n",
        "            kernel_size=kernel_size,\n",
        "            activation='relu')(y)\n",
        "y = MaxPooling2D()(y)\n",
        "y = Conv2D(filters=filters,\n",
        "            kernel_size=kernel_size,\n",
        "            activation='relu')(y)\n",
        "\n",
        "# image to vector before connecting to dense layer\n",
        "y = Flatten()(y)\n",
        "# dropout regularization\n",
        "y = Dropout(dropout)(y)\n",
        "# print(len(np.unique(num_labels))\n",
        "outputs = Dense(325, activation='softmax')(y)"
      ]
    },
    {
      "cell_type": "code",
      "execution_count": null,
      "id": "cb4e257f",
      "metadata": {
        "id": "cb4e257f"
      },
      "outputs": [],
      "source": [
        "# build the model by supplying inputs/outputs\n",
        "model = Model(inputs=inputs, outputs=outputs)\n",
        "# network model in text\n",
        "model.summary()"
      ]
    },
    {
      "cell_type": "code",
      "execution_count": null,
      "id": "edc448ba",
      "metadata": {
        "id": "edc448ba"
      },
      "outputs": [],
      "source": []
    },
    {
      "cell_type": "code",
      "execution_count": null,
      "id": "43505155",
      "metadata": {
        "id": "43505155"
      },
      "outputs": [],
      "source": [
        "# classifier loss, Adam optimizer, classifier accuracy\n",
        "model.compile(loss='categorical_crossentropy',\n",
        "                optimizer='adam',\n",
        "                metrics=['accuracy'])\n"
      ]
    },
    {
      "cell_type": "code",
      "execution_count": null,
      "id": "a3cc02e3",
      "metadata": {
        "id": "a3cc02e3"
      },
      "outputs": [],
      "source": []
    },
    {
      "cell_type": "code",
      "execution_count": null,
      "id": "5b285442",
      "metadata": {
        "id": "5b285442"
      },
      "outputs": [],
      "source": [
        "# train the model with input images and labels\n",
        "history = model.fit(x_train,\n",
        "            Ltrain,\n",
        "            validation_data=(x_val, Lval),\n",
        "            epochs=10,\n",
        "            batch_size=batch_size)\n",
        "# model accuracy on test dataset\n",
        "score = model.evaluate(x_test,\n",
        "                        Ltest,\n",
        "                        batch_size=batch_size,\n",
        "                        verbose=0)\n",
        "print(\"\\nTest accuracy: %.1f%%\" % (100.0 * score[1]))"
      ]
    },
    {
      "cell_type": "code",
      "execution_count": null,
      "id": "3cd40a7a",
      "metadata": {
        "id": "3cd40a7a"
      },
      "outputs": [],
      "source": [
        "score = model.evaluate(x_test, Ltest, )\n",
        "score"
      ]
    },
    {
      "cell_type": "code",
      "execution_count": null,
      "id": "89bca4b5",
      "metadata": {
        "id": "89bca4b5"
      },
      "outputs": [],
      "source": []
    },
    {
      "cell_type": "code",
      "execution_count": null,
      "id": "2de3016c",
      "metadata": {
        "id": "2de3016c"
      },
      "outputs": [],
      "source": [
        "from matplotlib import pyplot as plt"
      ]
    },
    {
      "cell_type": "code",
      "execution_count": null,
      "id": "20fa0795",
      "metadata": {
        "id": "20fa0795"
      },
      "outputs": [],
      "source": [
        "plt.subplot(2, 1, 1)\n",
        "plt.title('Cross Entropy Loss')\n",
        "plt.plot(history.history['loss'], color='blue', label='train')\n",
        "plt.plot(history.history['val_loss'], color='orange', label='validation')\n",
        "plt.legend()\n",
        "# plot accuracy\n",
        "plt.subplot(2, 1, 2)\n",
        "plt.title('Classification Accuracy')\n",
        "plt.plot(history.history['accuracy'], color='blue', label='train')\n",
        "plt.plot(history.history['val_accuracy'], color='orange', label='validation')\n",
        "plt.legend()\n",
        "plt.show()"
      ]
    },
    {
      "cell_type": "code",
      "execution_count": null,
      "id": "056edb7e",
      "metadata": {
        "id": "056edb7e"
      },
      "outputs": [],
      "source": [
        "\n"
      ]
    },
    {
      "cell_type": "code",
      "execution_count": null,
      "id": "63648cfc",
      "metadata": {
        "id": "63648cfc"
      },
      "outputs": [],
      "source": [
        "#history.history"
      ]
    },
    {
      "cell_type": "code",
      "execution_count": null,
      "id": "e4168487",
      "metadata": {
        "id": "e4168487"
      },
      "outputs": [],
      "source": [
        "# result = model.predict(x_train[15002:15003])\n"
      ]
    },
    {
      "cell_type": "code",
      "execution_count": null,
      "id": "21c97043",
      "metadata": {
        "id": "21c97043"
      },
      "outputs": [],
      "source": [
        "from tensorflow.keras.models import save_model, load_model\n",
        "\n",
        "#save_model(model, 'es_final')\n",
        "#save_model(model, 'es_final_1')\n",
        "save_model(model, 'es_final_1_2')"
      ]
    },
    {
      "cell_type": "code",
      "execution_count": null,
      "id": "f6f45ccf",
      "metadata": {
        "id": "f6f45ccf"
      },
      "outputs": [],
      "source": [
        "# c.predict(x_train[2:3])"
      ]
    },
    {
      "cell_type": "code",
      "execution_count": null,
      "id": "e78d1bc1",
      "metadata": {
        "id": "e78d1bc1"
      },
      "outputs": [],
      "source": [
        "from tensorflow.keras.models import save_model, load_model\n",
        "c = load_model('es_final_1_2')"
      ]
    },
    {
      "cell_type": "code",
      "execution_count": null,
      "id": "c8bb7711",
      "metadata": {
        "id": "c8bb7711"
      },
      "outputs": [],
      "source": []
    },
    {
      "cell_type": "code",
      "execution_count": null,
      "id": "82c50197",
      "metadata": {
        "id": "82c50197"
      },
      "outputs": [],
      "source": [
        "x = x_train[10]\n",
        "x.shape\n",
        "from matplotlib import pyplot as plt\n",
        "plt.imshow(x)\n",
        "\n",
        "x.shape\n"
      ]
    },
    {
      "cell_type": "code",
      "execution_count": null,
      "id": "554a2fdc",
      "metadata": {
        "id": "554a2fdc"
      },
      "outputs": [],
      "source": [
        "plt.subplot(2, 1, 2)\n",
        "plt.title('Accuracy')\n",
        "plt.plot(score[0], color='blue', label='acc')\n",
        "\n",
        "plt.legend()\n",
        "plt.show()"
      ]
    },
    {
      "cell_type": "code",
      "execution_count": null,
      "id": "239ff476",
      "metadata": {
        "id": "239ff476"
      },
      "outputs": [],
      "source": [
        "Ltest.shape"
      ]
    },
    {
      "cell_type": "code",
      "execution_count": null,
      "id": "10ecce02",
      "metadata": {
        "id": "10ecce02"
      },
      "outputs": [],
      "source": [
        "# classification matrix"
      ]
    },
    {
      "cell_type": "code",
      "execution_count": null,
      "id": "16ceb7e3",
      "metadata": {
        "id": "16ceb7e3"
      },
      "outputs": [],
      "source": [
        "pred = c.predict(x_test)\n",
        "pred.shape"
      ]
    },
    {
      "cell_type": "code",
      "execution_count": null,
      "id": "a7837884",
      "metadata": {
        "id": "a7837884"
      },
      "outputs": [],
      "source": [
        "pre_labels = []\n",
        "for i in pred:\n",
        "    pre_labels.append(np.argmax(i))"
      ]
    },
    {
      "cell_type": "code",
      "execution_count": null,
      "id": "0747c732",
      "metadata": {
        "id": "0747c732"
      },
      "outputs": [],
      "source": [
        "test_labels = []\n",
        "for i in Ltest:\n",
        "    test_labels.append(np.argmax(i))\n",
        "\n",
        "# test_labels"
      ]
    },
    {
      "cell_type": "code",
      "execution_count": null,
      "id": "ee442afc",
      "metadata": {
        "id": "ee442afc"
      },
      "outputs": [],
      "source": [
        "pre_labels = np.array(pre_labels)\n",
        "test_labels = np.array(test_labels)\n",
        "pre_labels.shape"
      ]
    },
    {
      "cell_type": "code",
      "execution_count": null,
      "id": "6df140d6",
      "metadata": {
        "id": "6df140d6"
      },
      "outputs": [],
      "source": [
        "from sklearn.metrics import classification_report\n",
        "from sklearn.metrics import confusion_matrix, accuracy_score, roc_auc_score, precision_score, f1_score, recall_score"
      ]
    },
    {
      "cell_type": "code",
      "execution_count": null,
      "id": "bcfe783d",
      "metadata": {
        "id": "bcfe783d"
      },
      "outputs": [],
      "source": []
    },
    {
      "cell_type": "code",
      "execution_count": null,
      "id": "20c1b528",
      "metadata": {
        "id": "20c1b528"
      },
      "outputs": [],
      "source": [
        "cm = (confusion_matrix(test_labels, pre_labels))\n",
        "cm[4]"
      ]
    },
    {
      "cell_type": "code",
      "execution_count": null,
      "id": "105fb841",
      "metadata": {
        "id": "105fb841"
      },
      "outputs": [],
      "source": []
    },
    {
      "cell_type": "code",
      "execution_count": null,
      "id": "3f4e7ba7",
      "metadata": {
        "id": "3f4e7ba7"
      },
      "outputs": [],
      "source": [
        "print(\"accuracy : %.2f%%\" % (accuracy_score(test_labels, pre_labels)*100))\n",
        "#print(\"ROC AUC : %.2f%%\" % (recall_score(test_labels, pre_labels, labels=[], average='macro'*100))\n",
        "print(\"RECALL : %.2f%%\" % (recall_score(test_labels, pre_labels, labels=[0,1,2,3,4,5,6,7,8,9,10,11,12, 13,  14,  15,  16,  17,  18,  19,  20,  21,  22,  23,  24,  25,\n",
        "        26,  27,  28,  29,  30,  31,  32,  33,  34,  35,  36,  37,  38, 39,  40,  41,  42,  43,  44,  45,  46,  47,  48,  49,  50,  51,\n",
        "        52,  53,  54,  55,  56,  57,  58,  59,  60,  61,  62,  63,  64, 65,  66,  67,  68,  69,  70,  71,  72,  73,  74,  75,  76,  77,\n",
        "        78,  79,  80,  81,  82,  83,  84,  85,  86,  87,  88,  89,  90, 91,  92,  93,  94,  95,  96,  97,  98,  99, 100, 101, 102, 103,\n",
        "       104, 105, 106, 107, 108, 109, 110, 111, 112, 113, 114, 115, 116, 117, 118, 119, 120, 121, 122, 123, 124, 125, 126, 127, 128, 129, 130, 131, 132, 133, 134, 135, 136, 137, 138, 139, 140, 141, 142,\n",
        "       143, 144, 145, 146, 147, 148, 149, 150, 151, 152, 153, 154, 155,156, 157, 158, 159, 160, 161, 162, 163, 164, 165, 166, 167, 168,\n",
        "       169, 170, 171, 172, 173, 174, 175, 176, 177, 178, 179, 180, 181, 182, 183, 184, 185, 186, 187, 188, 189, 190, 191, 192, 193, 194,\n",
        "       195, 196, 197, 198, 199, 200, 201, 202, 203, 204, 205, 206, 207,208, 209, 210, 211, 212, 213, 214, 215, 216, 217, 218, 219, 220,\n",
        "       221, 222, 223, 224, 225, 226, 227, 228, 229, 230, 231, 232, 233,234, 235, 236, 237, 238, 239, 240, 241, 242, 243, 244, 245, 246,\n",
        "       247, 248, 249, 250, 251, 252, 253, 254, 255, 256, 257, 258, 259, 260, 261, 262, 263, 264, 265, 266, 267, 268, 269, 270, 271, 272,\n",
        "       273, 274, 275, 276, 277, 278, 279, 280, 281, 282, 283, 284, 285, 286, 287, 288, 289, 290, 291, 292, 293, 294, 295, 296, 297, 298,\n",
        "       299, 300, 301, 302, 303, 304, 305, 306, 307, 308, 309, 310, 311,312, 313, 314, 315, 316, 317, 318, 319, 320, 321, 322, 323, 324], average='macro')*100))\n",
        "print(\"PRECION : %.2f%%\" % (precision_score(test_labels, pre_labels, labels=[0,1,2,3,4,5,6,7,8,9,10,11,12, 13,  14,  15,  16,  17,  18,  19,  20,  21,  22,  23,  24,  25,\n",
        "        26,  27,  28,  29,  30,  31,  32,  33,  34,  35,  36,  37,  38, 39,  40,  41,  42,  43,  44,  45,  46,  47,  48,  49,  50,  51,\n",
        "        52,  53,  54,  55,  56,  57,  58,  59,  60,  61,  62,  63,  64, 65,  66,  67,  68,  69,  70,  71,  72,  73,  74,  75,  76,  77,\n",
        "        78,  79,  80,  81,  82,  83,  84,  85,  86,  87,  88,  89,  90, 91,  92,  93,  94,  95,  96,  97,  98,  99, 100, 101, 102, 103,\n",
        "       104, 105, 106, 107, 108, 109, 110, 111, 112, 113, 114, 115, 116, 117, 118, 119, 120, 121, 122, 123, 124, 125, 126, 127, 128, 129, 130, 131, 132, 133, 134, 135, 136, 137, 138, 139, 140, 141, 142,\n",
        "       143, 144, 145, 146, 147, 148, 149, 150, 151, 152, 153, 154, 155,156, 157, 158, 159, 160, 161, 162, 163, 164, 165, 166, 167, 168,\n",
        "       169, 170, 171, 172, 173, 174, 175, 176, 177, 178, 179, 180, 181, 182, 183, 184, 185, 186, 187, 188, 189, 190, 191, 192, 193, 194,\n",
        "       195, 196, 197, 198, 199, 200, 201, 202, 203, 204, 205, 206, 207,208, 209, 210, 211, 212, 213, 214, 215, 216, 217, 218, 219, 220,\n",
        "       221, 222, 223, 224, 225, 226, 227, 228, 229, 230, 231, 232, 233,234, 235, 236, 237, 238, 239, 240, 241, 242, 243, 244, 245, 246,\n",
        "       247, 248, 249, 250, 251, 252, 253, 254, 255, 256, 257, 258, 259, 260, 261, 262, 263, 264, 265, 266, 267, 268, 269, 270, 271, 272,\n",
        "       273, 274, 275, 276, 277, 278, 279, 280, 281, 282, 283, 284, 285, 286, 287, 288, 289, 290, 291, 292, 293, 294, 295, 296, 297, 298,\n",
        "       299, 300, 301, 302, 303, 304, 305, 306, 307, 308, 309, 310, 311,312, 313, 314, 315, 316, 317, 318, 319, 320, 321, 322, 323, 324], average='macro')*100))\n",
        "print(\"f_score : %.2f%%\" % (f1_score(test_labels, pre_labels, labels=[0,1,2,3,4,5,6,7,8,9,10,11,12, 13,  14,  15,  16,  17,  18,  19,  20,  21,  22,  23,  24,  25,\n",
        "        26,  27,  28,  29,  30,  31,  32,  33,  34,  35,  36,  37,  38, 39,  40,  41,  42,  43,  44,  45,  46,  47,  48,  49,  50,  51,\n",
        "        52,  53,  54,  55,  56,  57,  58,  59,  60,  61,  62,  63,  64, 65,  66,  67,  68,  69,  70,  71,  72,  73,  74,  75,  76,  77,\n",
        "        78,  79,  80,  81,  82,  83,  84,  85,  86,  87,  88,  89,  90, 91,  92,  93,  94,  95,  96,  97,  98,  99, 100, 101, 102, 103,\n",
        "       104, 105, 106, 107, 108, 109, 110, 111, 112, 113, 114, 115, 116, 117, 118, 119, 120, 121, 122, 123, 124, 125, 126, 127, 128, 129, 130, 131, 132, 133, 134, 135, 136, 137, 138, 139, 140, 141, 142,\n",
        "       143, 144, 145, 146, 147, 148, 149, 150, 151, 152, 153, 154, 155,156, 157, 158, 159, 160, 161, 162, 163, 164, 165, 166, 167, 168,\n",
        "       169, 170, 171, 172, 173, 174, 175, 176, 177, 178, 179, 180, 181, 182, 183, 184, 185, 186, 187, 188, 189, 190, 191, 192, 193, 194,\n",
        "       195, 196, 197, 198, 199, 200, 201, 202, 203, 204, 205, 206, 207,208, 209, 210, 211, 212, 213, 214, 215, 216, 217, 218, 219, 220,\n",
        "       221, 222, 223, 224, 225, 226, 227, 228, 229, 230, 231, 232, 233,234, 235, 236, 237, 238, 239, 240, 241, 242, 243, 244, 245, 246,\n",
        "       247, 248, 249, 250, 251, 252, 253, 254, 255, 256, 257, 258, 259, 260, 261, 262, 263, 264, 265, 266, 267, 268, 269, 270, 271, 272,\n",
        "       273, 274, 275, 276, 277, 278, 279, 280, 281, 282, 283, 284, 285, 286, 287, 288, 289, 290, 291, 292, 293, 294, 295, 296, 297, 298,\n",
        "       299, 300, 301, 302, 303, 304, 305, 306, 307, 308, 309, 310, 311,312, 313, 314, 315, 316, 317, 318, 319, 320, 321, 322, 323, 324], average='macro')*100))"
      ]
    },
    {
      "cell_type": "code",
      "execution_count": null,
      "id": "825492a2",
      "metadata": {
        "id": "825492a2"
      },
      "outputs": [],
      "source": []
    },
    {
      "cell_type": "code",
      "execution_count": null,
      "id": "ab58e50b",
      "metadata": {
        "id": "ab58e50b"
      },
      "outputs": [],
      "source": [
        "arr = np.asarray([1,2,3,4])\n",
        "arr"
      ]
    },
    {
      "cell_type": "code",
      "execution_count": null,
      "id": "36d141c4",
      "metadata": {
        "id": "36d141c4"
      },
      "outputs": [],
      "source": []
    },
    {
      "cell_type": "code",
      "execution_count": null,
      "id": "f350c5b7",
      "metadata": {
        "id": "f350c5b7"
      },
      "outputs": [],
      "source": []
    },
    {
      "cell_type": "code",
      "execution_count": null,
      "id": "2ac8fc38",
      "metadata": {
        "id": "2ac8fc38"
      },
      "outputs": [],
      "source": []
    },
    {
      "cell_type": "code",
      "execution_count": null,
      "id": "943026c9",
      "metadata": {
        "id": "943026c9"
      },
      "outputs": [],
      "source": [
        "np.where(arr == np.max(arr))"
      ]
    },
    {
      "cell_type": "code",
      "execution_count": null,
      "id": "3c766875",
      "metadata": {
        "id": "3c766875"
      },
      "outputs": [],
      "source": []
    },
    {
      "cell_type": "code",
      "execution_count": null,
      "id": "377c3a9b",
      "metadata": {
        "id": "377c3a9b"
      },
      "outputs": [],
      "source": [
        "from keras.utils.vis_utils import plot_model\n",
        "import pydot"
      ]
    },
    {
      "cell_type": "code",
      "execution_count": null,
      "id": "12935f4f",
      "metadata": {
        "id": "12935f4f"
      },
      "outputs": [],
      "source": [
        "plot_model(model, to_file = \"1.png\", show_shapes=True, show_layer_names=True)"
      ]
    },
    {
      "cell_type": "code",
      "execution_count": null,
      "id": "774edc0e",
      "metadata": {
        "id": "774edc0e"
      },
      "outputs": [],
      "source": [
        "print(classification_report(test_labels, pre_labels, zero_division = 0))"
      ]
    },
    {
      "cell_type": "code",
      "execution_count": null,
      "id": "f21a3a8b",
      "metadata": {
        "id": "f21a3a8b"
      },
      "outputs": [],
      "source": []
    },
    {
      "cell_type": "code",
      "execution_count": null,
      "id": "1a05d762",
      "metadata": {
        "id": "1a05d762"
      },
      "outputs": [],
      "source": []
    }
  ],
  "metadata": {
    "kernelspec": {
      "display_name": "Python 3",
      "language": "python",
      "name": "python3"
    },
    "language_info": {
      "codemirror_mode": {
        "name": "ipython",
        "version": 3
      },
      "file_extension": ".py",
      "mimetype": "text/x-python",
      "name": "python",
      "nbconvert_exporter": "python",
      "pygments_lexer": "ipython3",
      "version": "3.8.8"
    },
    "colab": {
      "provenance": [],
      "include_colab_link": true
    }
  },
  "nbformat": 4,
  "nbformat_minor": 5
}